{
 "cells": [
  {
   "cell_type": "markdown",
   "metadata": {},
   "source": [
    "This data set classifies the people described by the set of attributes as good or bad credit risks. Firstly the dataset is loaded using read.csv()."
   ]
  },
  {
   "cell_type": "code",
   "execution_count": 1,
   "metadata": {
    "collapsed": true
   },
   "outputs": [],
   "source": [
    "#Reading the data from file\n",
    "credit<-read.csv('credit.csv')"
   ]
  },
  {
   "cell_type": "markdown",
   "metadata": {},
   "source": [
    "Lets look at the all the variables and thier data types"
   ]
  },
  {
   "cell_type": "code",
   "execution_count": 2,
   "metadata": {
    "collapsed": false
   },
   "outputs": [
    {
     "name": "stdout",
     "output_type": "stream",
     "text": [
      "'data.frame':\t1000 obs. of  21 variables:\n",
      " $ Checking.Account        : Factor w/ 4 levels \"A11\",\"A12\",\"A13\",..: 1 2 4 1 1 4 4 2 4 2 ...\n",
      " $ Duration                : int  6 48 12 42 24 36 24 36 12 30 ...\n",
      " $ Credit.History          : Factor w/ 5 levels \"A30\",\"A31\",\"A32\",..: 5 3 5 3 4 3 3 3 3 5 ...\n",
      " $ Puropose                : Factor w/ 10 levels \"A40\",\"A41\",\"A410\",..: 5 5 8 4 1 8 4 2 5 1 ...\n",
      " $ Credit.Amount           : int  1169 5951 2096 7882 4870 9055 2835 6948 3059 5234 ...\n",
      " $ Savings                 : Factor w/ 5 levels \"A61\",\"A62\",\"A63\",..: 5 1 1 1 1 5 3 1 4 1 ...\n",
      " $ employment              : Factor w/ 5 levels \"A71\",\"A72\",\"A73\",..: 5 3 4 4 3 3 5 3 4 1 ...\n",
      " $ Installment.Rate        : int  4 2 2 2 3 2 3 2 2 4 ...\n",
      " $ Sex                     : Factor w/ 4 levels \"A91\",\"A92\",\"A93\",..: 3 2 3 3 3 3 3 3 1 4 ...\n",
      " $ Other.Debtors           : Factor w/ 3 levels \"A101\",\"A102\",..: 1 1 1 3 1 1 1 1 1 1 ...\n",
      " $ Residence.Since         : int  4 2 3 4 4 4 4 2 4 2 ...\n",
      " $ Real.Estate             : Factor w/ 4 levels \"A121\",\"A122\",..: 1 1 1 2 4 4 2 3 1 3 ...\n",
      " $ Age                     : int  67 22 49 45 53 35 53 35 61 28 ...\n",
      " $ Other.Installments.Plans: Factor w/ 3 levels \"A141\",\"A142\",..: 3 3 3 3 3 3 3 3 3 3 ...\n",
      " $ Housing                 : Factor w/ 3 levels \"A151\",\"A152\",..: 2 2 2 3 3 3 2 1 2 2 ...\n",
      " $ existing.credits        : int  2 1 1 1 2 1 1 1 1 2 ...\n",
      " $ Job                     : Factor w/ 4 levels \"A171\",\"A172\",..: 3 3 2 3 3 2 3 4 2 4 ...\n",
      " $ maintainence            : int  1 1 2 2 2 2 1 1 1 1 ...\n",
      " $ Telephone               : Factor w/ 2 levels \"A191\",\"A192\": 2 1 1 1 1 2 1 2 1 1 ...\n",
      " $ foreign.Walker          : Factor w/ 2 levels \"A201\",\"A202\": 1 1 1 1 1 1 1 1 1 1 ...\n",
      " $ score                   : int  1 2 1 1 2 1 1 1 1 2 ...\n"
     ]
    }
   ],
   "source": [
    "str(credit)#Examining the structure of data"
   ]
  },
  {
   "cell_type": "code",
   "execution_count": 85,
   "metadata": {
    "collapsed": false
   },
   "outputs": [
    {
     "data": {
      "text/plain": [
       " Checking.Account    Duration    Credit.History    Puropose   Credit.Amount  \n",
       " A11:274          Min.   : 4.0   A30: 40        A43    :280   Min.   :  250  \n",
       " A12:269          1st Qu.:12.0   A31: 49        A40    :234   1st Qu.: 1366  \n",
       " A13: 63          Median :18.0   A32:530        A42    :181   Median : 2320  \n",
       " A14:394          Mean   :20.9   A33: 88        A41    :103   Mean   : 3271  \n",
       "                  3rd Qu.:24.0   A34:293        A49    : 97   3rd Qu.: 3972  \n",
       "                  Max.   :72.0                  A46    : 50   Max.   :18424  \n",
       "                                                (Other): 55                  \n",
       " Savings   employment Installment.Rate  Sex      Other.Debtors Residence.Since\n",
       " A61:603   A71: 62    Min.   :1.000    A91: 50   A101:907      Min.   :1.000  \n",
       " A62:103   A72:172    1st Qu.:2.000    A92:310   A102: 41      1st Qu.:2.000  \n",
       " A63: 63   A73:339    Median :3.000    A93:548   A103: 52      Median :3.000  \n",
       " A64: 48   A74:174    Mean   :2.973    A94: 92                 Mean   :2.845  \n",
       " A65:183   A75:253    3rd Qu.:4.000                            3rd Qu.:4.000  \n",
       "                      Max.   :4.000                            Max.   :4.000  \n",
       "                                                                              \n",
       " Real.Estate      Age        Other.Installments.Plans Housing   \n",
       " A121:282    Min.   :19.00   A141:139                 A151:179  \n",
       " A122:232    1st Qu.:27.00   A142: 47                 A152:713  \n",
       " A123:332    Median :33.00   A143:814                 A153:108  \n",
       " A124:154    Mean   :35.55                                      \n",
       "             3rd Qu.:42.00                                      \n",
       "             Max.   :75.00                                      \n",
       "                                                                \n",
       " existing.credits   Job       maintainence   Telephone  foreign.Walker\n",
       " Min.   :1.000    A171: 22   Min.   :1.000   A191:596   A201:963      \n",
       " 1st Qu.:1.000    A172:200   1st Qu.:1.000   A192:404   A202: 37      \n",
       " Median :1.000    A173:630   Median :1.000                            \n",
       " Mean   :1.407    A174:148   Mean   :1.155                            \n",
       " 3rd Qu.:2.000               3rd Qu.:1.000                            \n",
       " Max.   :4.000               Max.   :2.000                            \n",
       "                                                                      \n",
       " score    \n",
       " No :700  \n",
       " Yes:300  \n",
       "          \n",
       "          \n",
       "          \n",
       "          \n",
       "          "
      ]
     },
     "metadata": {},
     "output_type": "display_data"
    }
   ],
   "source": [
    "summary(credit)"
   ]
  },
  {
   "cell_type": "markdown",
   "metadata": {},
   "source": [
    "There are seven numerical varibles and rest of them are categorical variables.Visualizing the varibles in dataset"
   ]
  },
  {
   "cell_type": "code",
   "execution_count": 5,
   "metadata": {
    "collapsed": false
   },
   "outputs": [],
   "source": [
    "library(\"ggplot2\")#loading the library"
   ]
  },
  {
   "cell_type": "code",
   "execution_count": 14,
   "metadata": {
    "collapsed": false
   },
   "outputs": [
    {
     "data": {},
     "metadata": {},
     "output_type": "display_data"
    },
    {
     "data": {
      "image/png": "[encoded data removed]",
      "text/plain": [
       "plot without title"
      ]
     },
     "metadata": {},
     "output_type": "display_data"
    }
   ],
   "source": [
    "ggplot(data= credit, aes(x=Checking.Account))+geom_bar() #Plotting the bar graph for cateegorical variable"
   ]
  },
  {
   "cell_type": "markdown",
   "metadata": {},
   "source": [
    "A11 : ... < 0 DM\n",
    "\n",
    "A12 : 0 <= ... < 200 DM \n",
    "\n",
    "A13 : ... >= 200 DM / salary assignments for at least 1 year \n",
    "\n",
    "A14 : no checking account \n",
    "\n",
    "From the above barplot we can observe that the number of users having the no checking account are more, "
   ]
  },
  {
   "cell_type": "markdown",
   "metadata": {},
   "source": [
    "Now for our understanding, change the score variables from 1, 2 levels to \"No\" and \"Yes\""
   ]
  },
  {
   "cell_type": "code",
   "execution_count": 16,
   "metadata": {
    "collapsed": true
   },
   "outputs": [],
   "source": [
    "credit$score[credit$score==\"1\"]<-\"No\" #Replacing the 1 with No \n",
    "credit$score[credit$score==\"2\"]<-\"Yes\" #Replacing the 2 with Yes\n",
    "credit$score<-factor(credit$score) #"
   ]
  },
  {
   "cell_type": "code",
   "execution_count": 17,
   "metadata": {
    "collapsed": false
   },
   "outputs": [
    {
     "data": {},
     "metadata": {},
     "output_type": "display_data"
    },
    {
     "data": {
      "image/png": "[encoded data removed]",
      "text/plain": [
       "plot without title"
      ]
     },
     "metadata": {},
     "output_type": "display_data"
    }
   ],
   "source": [
    "ggplot(data= credit, aes(x=Checking.Account))+geom_bar()+facet_grid(facets = score~.)"
   ]
  },
  {
   "cell_type": "markdown",
   "metadata": {},
   "source": [
    "Most of the Customers with no checking account doesnt have any credit risk as expected."
   ]
  },
  {
   "cell_type": "code",
   "execution_count": 20,
   "metadata": {
    "collapsed": false
   },
   "outputs": [
    {
     "data": {},
     "metadata": {},
     "output_type": "display_data"
    },
    {
     "data": {
      "image/png": "[encoded data removed]",
      "text/plain": [
       "plot without title"
      ]
     },
     "metadata": {},
     "output_type": "display_data"
    }
   ],
   "source": [
    "ggplot(data=credit, aes(x=Duration))+geom_histogram(binwidth=3, fill=\"orange\", col=\"black\")"
   ]
  },
  {
   "cell_type": "markdown",
   "metadata": {},
   "source": [
    "Credit History Lables:\n",
    "\n",
    "A30 : no credits taken/ all credits paid back duly \n",
    "\n",
    "A31 : all credits at this bank paid back duly \n",
    "\n",
    "A32 : existing credits paid back duly till now \n",
    "\n",
    "A33 : delay in paying off in the past \n",
    "\n",
    "A34 : critical account/ other credits existing (not at this bank) "
   ]
  },
  {
   "cell_type": "code",
   "execution_count": 21,
   "metadata": {
    "collapsed": false
   },
   "outputs": [
    {
     "data": {
      "text/plain": [
       "\n",
       "A30 A31 A32 A33 A34 \n",
       " 40  49 530  88 293 "
      ]
     },
     "metadata": {},
     "output_type": "display_data"
    }
   ],
   "source": [
    "table(credit$Credit.History)"
   ]
  },
  {
   "cell_type": "markdown",
   "metadata": {},
   "source": [
    "From the above table, majority of users paid back the due till now."
   ]
  },
  {
   "cell_type": "code",
   "execution_count": 23,
   "metadata": {
    "collapsed": false
   },
   "outputs": [
    {
     "data": {},
     "metadata": {},
     "output_type": "display_data"
    },
    {
     "data": {
      "image/png": "[encoded data removed]",
      "text/plain": [
       "plot without title"
      ]
     },
     "metadata": {},
     "output_type": "display_data"
    }
   ],
   "source": [
    "ggplot(data= credit, aes(x=Credit.History))+geom_bar()+facet_grid(facets = score~.)"
   ]
  },
  {
   "cell_type": "markdown",
   "metadata": {},
   "source": [
    "As expected customers who pay the due maintain the good credit history and will not bbe in risk"
   ]
  },
  {
   "cell_type": "markdown",
   "metadata": {},
   "source": [
    "Purpose:\n",
    "\n",
    "A40 : car (new) \n",
    "\n",
    "A41 : car (used) \n",
    "\n",
    "A42 : furniture/equipment \n",
    "\n",
    "A43 : radio/television\n",
    "\n",
    "A44 : domestic appliances\n",
    "\n",
    "A45 : repairs \n",
    "\n",
    "A46 : education \n",
    "\n",
    "A47 : (vacation - does not exist?) \n",
    "\n",
    "A48 : retraining \n",
    "\n",
    "A49 : business\n",
    "\n",
    "A410 : others "
   ]
  },
  {
   "cell_type": "code",
   "execution_count": 26,
   "metadata": {
    "collapsed": false
   },
   "outputs": [
    {
     "data": {},
     "metadata": {},
     "output_type": "display_data"
    },
    {
     "data": {
      "image/png": "[encoded data removed]",
      "text/plain": [
       "plot without title"
      ]
     },
     "metadata": {},
     "output_type": "display_data"
    }
   ],
   "source": [
    "ggplot(data= credit, aes(x=Puropose))+geom_bar()"
   ]
  },
  {
   "cell_type": "markdown",
   "metadata": {},
   "source": [
    "Interestingly, Majority of customers take loans for the purpose of radio/telivison new car."
   ]
  },
  {
   "cell_type": "code",
   "execution_count": 36,
   "metadata": {
    "collapsed": false
   },
   "outputs": [
    {
     "name": "stderr",
     "output_type": "stream",
     "text": [
      "`stat_bin()` using `bins = 30`. Pick better value with `binwidth`.\n"
     ]
    },
    {
     "data": {},
     "metadata": {},
     "output_type": "display_data"
    },
    {
     "data": {
      "image/png": "[encoded data removed]",
      "text/plain": [
       "plot without title"
      ]
     },
     "metadata": {},
     "output_type": "display_data"
    }
   ],
   "source": [
    "ggplot(data= credit, aes(x=Credit.Amount))+\n",
    "geom_freqpoly()+\n",
    "geom_vline(xintercept = c(1300), color = \"green\", linetype=\"dashed\", alpha = 0.75)"
   ]
  },
  {
   "cell_type": "markdown",
   "metadata": {},
   "source": [
    "Most of the users have 1300 as credit amount and very less users has more than 15000 credit amount"
   ]
  },
  {
   "cell_type": "markdown",
   "metadata": {},
   "source": [
    "Present employment since \n",
    "\n",
    "A71 : unemployed \n",
    "\n",
    "A72 : ... < 1 year \n",
    "\n",
    "A73 : 1 <= ... < 4 years \n",
    "\n",
    "A74 : 4 <= ... < 7 years \n",
    "\n",
    "A75 : .. >= 7 years"
   ]
  },
  {
   "cell_type": "code",
   "execution_count": 38,
   "metadata": {
    "collapsed": false
   },
   "outputs": [
    {
     "data": {
      "text/plain": [
       "\n",
       "A71 A72 A73 A74 A75 \n",
       " 62 172 339 174 253 "
      ]
     },
     "metadata": {},
     "output_type": "display_data"
    }
   ],
   "source": [
    "table(credit$employment)"
   ]
  },
  {
   "cell_type": "markdown",
   "metadata": {},
   "source": [
    "Users with employment more than 1 year and less than four years are more"
   ]
  },
  {
   "cell_type": "markdown",
   "metadata": {},
   "source": [
    "Personal status and sex \n",
    "\n",
    "A91 : male : divorced/separated \n",
    "\n",
    "A92 : female : divorced/separated/married \n",
    "\n",
    "A93 : male : single \n",
    "\n",
    "A94 : male : married/widowed \n",
    "\n",
    "A95 : female : single "
   ]
  },
  {
   "cell_type": "code",
   "execution_count": 43,
   "metadata": {
    "collapsed": false
   },
   "outputs": [
    {
     "data": {
      "text/plain": [
       "\n",
       "A91 A92 A93 A94 \n",
       " 50 310 548  92 "
      ]
     },
     "metadata": {},
     "output_type": "display_data"
    }
   ],
   "source": [
    "table(credit$Sex)"
   ]
  },
  {
   "cell_type": "markdown",
   "metadata": {},
   "source": [
    "Majority of users are Male with staus single"
   ]
  },
  {
   "cell_type": "markdown",
   "metadata": {},
   "source": [
    "Age"
   ]
  },
  {
   "cell_type": "code",
   "execution_count": 47,
   "metadata": {
    "collapsed": false
   },
   "outputs": [
    {
     "data": {},
     "metadata": {},
     "output_type": "display_data"
    },
    {
     "data": {
      "image/png": "[encoded data removed]",
      "text/plain": [
       "plot without title"
      ]
     },
     "metadata": {},
     "output_type": "display_data"
    }
   ],
   "source": [
    "ggplot(data=credit,aes(x=Age))+geom_histogram(binwidth=3, fill=\"orange\", col=\"black\")"
   ]
  },
  {
   "cell_type": "code",
   "execution_count": 49,
   "metadata": {
    "collapsed": false
   },
   "outputs": [
    {
     "data": {},
     "metadata": {},
     "output_type": "display_data"
    },
    {
     "data": {
      "image/png": "[encoded data removed]",
      "text/plain": [
       "plot without title"
      ]
     },
     "metadata": {},
     "output_type": "display_data"
    }
   ],
   "source": [
    "ggplot(data=credit,aes(x=Age))+geom_histogram(binwidth=3, fill=\"blue\", col=\"black\")+facet_grid(facets=Sex~.)"
   ]
  },
  {
   "cell_type": "code",
   "execution_count": 50,
   "metadata": {
    "collapsed": false
   },
   "outputs": [
    {
     "data": {},
     "metadata": {},
     "output_type": "display_data"
    },
    {
     "data": {
      "image/png": "[encoded data removed]",
      "text/plain": [
       "plot without title"
      ]
     },
     "metadata": {},
     "output_type": "display_data"
    }
   ],
   "source": [
    "ggplot(data=credit,aes(x=Age))+geom_histogram(binwidth=3, fill=\"blue\", col=\"black\")+facet_grid(facets=employment~.)"
   ]
  },
  {
   "cell_type": "markdown",
   "metadata": {},
   "source": [
    "Property \n",
    "\n",
    "A121 : real estate \n",
    "\n",
    "A122 : if not A121 : building society savings agreement/ life insurance \n",
    "\n",
    "A123 : if not A121/A122 : car or other, not in attribute 6 \n",
    "\n",
    "A124 : unknown / no property "
   ]
  },
  {
   "cell_type": "code",
   "execution_count": 52,
   "metadata": {
    "collapsed": false
   },
   "outputs": [
    {
     "data": {
      "text/plain": [
       "\n",
       "A121 A122 A123 A124 \n",
       " 282  232  332  154 "
      ]
     },
     "metadata": {},
     "output_type": "display_data"
    }
   ],
   "source": [
    "table(credit$Real.Estate)"
   ]
  },
  {
   "cell_type": "markdown",
   "metadata": {},
   "source": [
    "Now Building the model to predict the risk of giving the loan by Decision trees. Split the data into train and test sets."
   ]
  },
  {
   "cell_type": "code",
   "execution_count": 53,
   "metadata": {
    "collapsed": true
   },
   "outputs": [],
   "source": [
    "library(caTools)\n",
    "set.seed(123)\n",
    "train_sample<-sample(1000,900)\n",
    "test_sample<-sample(1000, 100)"
   ]
  },
  {
   "cell_type": "code",
   "execution_count": 76,
   "metadata": {
    "collapsed": true
   },
   "outputs": [],
   "source": [
    "credit_train<-credit[train_sample,]\n",
    "credit_test<-credit[test_sample,]"
   ]
  },
  {
   "cell_type": "markdown",
   "metadata": {},
   "source": [
    "Applying the C5.0 algorithm and building the model"
   ]
  },
  {
   "cell_type": "code",
   "execution_count": 77,
   "metadata": {
    "collapsed": false
   },
   "outputs": [],
   "source": [
    "library(C50)\n",
    "model<-C5.0(credit_train[-21], credit_train$score)"
   ]
  },
  {
   "cell_type": "code",
   "execution_count": 62,
   "metadata": {
    "collapsed": false
   },
   "outputs": [
    {
     "data": {
      "text/plain": [
       "\n",
       "Call:\n",
       "C5.0.default(x = credit_train[-21], y = credit_train$score)\n",
       "\n",
       "Classification Tree\n",
       "Number of samples: 900 \n",
       "Number of predictors: 20 \n",
       "\n",
       "Tree size: 54 \n",
       "\n",
       "Non-standard options: attempt to group attributes\n"
      ]
     },
     "metadata": {},
     "output_type": "display_data"
    }
   ],
   "source": [
    "model"
   ]
  },
  {
   "cell_type": "code",
   "execution_count": 78,
   "metadata": {
    "collapsed": false
   },
   "outputs": [
    {
     "data": {
      "text/plain": [
       "\n",
       "Call:\n",
       "C5.0.default(x = credit_train[-21], y = credit_train$score)\n",
       "\n",
       "\n",
       "C5.0 [Release 2.07 GPL Edition]  \tWed May 17 16:43:45 2017\n",
       "-------------------------------\n",
       "\n",
       "Class specified by attribute `outcome'\n",
       "\n",
       "Read 900 cases (21 attributes) from undefined.data\n",
       "\n",
       "Decision tree:\n",
       "\n",
       "Checking.Account in {A13,A14}: No (412/50)\n",
       "Checking.Account in {A11,A12}:\n",
       ":...Other.Debtors = A103:\n",
       "    :...Duration > 36: Yes (4/1)\n",
       "    :   Duration <= 36:\n",
       "    :   :...Other.Installments.Plans in {A142,A143}: No (24)\n",
       "    :       Other.Installments.Plans = A141:\n",
       "    :       :...Puropose = A40: Yes (3)\n",
       "    :           Puropose in {A41,A410,A42,A43,A44,A45,A46,A48,A49}: No (7/1)\n",
       "    Other.Debtors in {A101,A102}:\n",
       "    :...Credit.History = A30: Yes (27/6)\n",
       "        Credit.History = A34: No (102/30)\n",
       "        Credit.History = A31:\n",
       "        :...Other.Debtors = A101: Yes (26/8)\n",
       "        :   Other.Debtors = A102: No (2)\n",
       "        Credit.History in {A32,A33}:\n",
       "        :...Savings in {A63,A64}: No (19/3)\n",
       "            Savings = A62:\n",
       "            :...Other.Debtors = A102: Yes (3)\n",
       "            :   Other.Debtors = A101:\n",
       "            :   :...Sex in {A91,A94}: Yes (6/1)\n",
       "            :       Sex = A92:\n",
       "            :       :...Installment.Rate <= 3: No (4/1)\n",
       "            :       :   Installment.Rate > 3: Yes (4)\n",
       "            :       Sex = A93:\n",
       "            :       :...Age <= 41: No (15/2)\n",
       "            :           Age > 41: Yes (2)\n",
       "            Savings = A65:\n",
       "            :...Credit.History = A33: No (8)\n",
       "            :   Credit.History = A32:\n",
       "            :   :...foreign.Walker = A202: No (2)\n",
       "            :       foreign.Walker = A201:\n",
       "            :       :...Checking.Account = A11:\n",
       "            :           :...Telephone = A191: Yes (11/2)\n",
       "            :           :   Telephone = A192:\n",
       "            :           :   :...Credit.Amount <= 5045: No (5/1)\n",
       "            :           :       Credit.Amount > 5045: Yes (2)\n",
       "            :           Checking.Account = A12:\n",
       "            :           :...Residence.Since > 3: No (9)\n",
       "            :               Residence.Since <= 3:\n",
       "            :               :...Real.Estate in {A122,A124}: Yes (4)\n",
       "            :                   Real.Estate = A123: No (6)\n",
       "            :                   Real.Estate = A121:\n",
       "            :                   :...Job in {A171,A172,A174}: No (2)\n",
       "            :                       Job = A173: Yes (2)\n",
       "            Savings = A61:\n",
       "            :...Duration > 39:\n",
       "                :...Residence.Since <= 1: No (2)\n",
       "                :   Residence.Since > 1: Yes (19/1)\n",
       "                Duration <= 39:\n",
       "                :...Puropose in {A40,A48}: Yes (47/16)\n",
       "                    Puropose in {A410,A44}: No (3)\n",
       "                    Puropose = A41:\n",
       "                    :...Credit.Amount <= 8086: No (9/1)\n",
       "                    :   Credit.Amount > 8086: Yes (5)\n",
       "                    Puropose = A45:\n",
       "                    :...Residence.Since <= 3: Yes (4/1)\n",
       "                    :   Residence.Since > 3: No (3)\n",
       "                    Puropose = A46:\n",
       "                    :...Checking.Account = A11: Yes (5)\n",
       "                    :   Checking.Account = A12: No (2)\n",
       "                    Puropose = A49:\n",
       "                    :...Credit.History = A33: Yes (2)\n",
       "                    :   Credit.History = A32:\n",
       "                    :   :...Age <= 34: No (5)\n",
       "                    :       Age > 34: Yes (2)\n",
       "                    Puropose = A43:\n",
       "                    :...employment in {A71,A72}: Yes (14/5)\n",
       "                    :   employment = A74: No (3)\n",
       "                    :   employment = A75:\n",
       "                    :   :...Credit.Amount <= 932: Yes (2)\n",
       "                    :   :   Credit.Amount > 932: No (7)\n",
       "                    :   employment = A73:\n",
       "                    :   :...Duration <= 15: No (6)\n",
       "                    :       Duration > 15:\n",
       "                    :       :...Credit.Amount <= 3275: Yes (7)\n",
       "                    :           Credit.Amount > 3275: No (2)\n",
       "                    Puropose = A42:\n",
       "                    :...Residence.Since <= 1: No (8/1)\n",
       "                        Residence.Since > 1:\n",
       "                        :...Other.Installments.Plans in {A141,\n",
       "                            :                            A142}: No (3/1)\n",
       "                            Other.Installments.Plans = A143:\n",
       "                            :...Telephone = A192: Yes (7/1)\n",
       "                                Telephone = A191:\n",
       "                                :...Duration > 27: Yes (3)\n",
       "                                    Duration <= 27:\n",
       "                                    :...Checking.Account = A12: Yes (5/2)\n",
       "                                        Checking.Account = A11:\n",
       "                                        :...Real.Estate in {A121,A122,\n",
       "                                            :               A124}: No (8)\n",
       "                                            Real.Estate = A123: [S1]\n",
       "\n",
       "SubTree [S1]\n",
       "\n",
       "Installment.Rate <= 1: No (2)\n",
       "Installment.Rate > 1: Yes (4)\n",
       "\n",
       "\n",
       "Evaluation on training data (900 cases):\n",
       "\n",
       "\t    Decision Tree   \n",
       "\t  ----------------  \n",
       "\t  Size      Errors  \n",
       "\n",
       "\t    54  135(15.0%)   <<\n",
       "\n",
       "\n",
       "\t   (a)   (b)    <-classified as\n",
       "\t  ----  ----\n",
       "\t   589    44    (a): class No\n",
       "\t    91   176    (b): class Yes\n",
       "\n",
       "\n",
       "\tAttribute usage:\n",
       "\n",
       "\t100.00%\tChecking.Account\n",
       "\t 54.22%\tOther.Debtors\n",
       "\t 50.00%\tCredit.History\n",
       "\t 32.56%\tSavings\n",
       "\t 25.22%\tDuration\n",
       "\t 19.78%\tPuropose\n",
       "\t 10.11%\tResidence.Since\n",
       "\t  7.33%\tOther.Installments.Plans\n",
       "\t  5.22%\tTelephone\n",
       "\t  4.78%\tforeign.Walker\n",
       "\t  4.56%\temployment\n",
       "\t  4.33%\tCredit.Amount\n",
       "\t  3.44%\tSex\n",
       "\t  3.11%\tReal.Estate\n",
       "\t  2.67%\tAge\n",
       "\t  1.56%\tInstallment.Rate\n",
       "\t  0.44%\tJob\n",
       "\n",
       "\n",
       "Time: 0.0 secs\n"
      ]
     },
     "metadata": {},
     "output_type": "display_data"
    }
   ],
   "source": [
    "summary(model)"
   ]
  },
  {
   "cell_type": "code",
   "execution_count": 80,
   "metadata": {
    "collapsed": true
   },
   "outputs": [],
   "source": [
    "credit_predict<-predict(model, credit_test[-21])"
   ]
  },
  {
   "cell_type": "code",
   "execution_count": 81,
   "metadata": {
    "collapsed": false
   },
   "outputs": [
    {
     "name": "stdout",
     "output_type": "stream",
     "text": [
      "\n",
      " \n",
      "   Cell Contents\n",
      "|-------------------------|\n",
      "|                       N |\n",
      "| Chi-square contribution |\n",
      "|           N / Row Total |\n",
      "|           N / Col Total |\n",
      "|         N / Table Total |\n",
      "|-------------------------|\n",
      "\n",
      " \n",
      "Total Observations in Table:  100 \n",
      "\n",
      " \n",
      "             | actual \n",
      "     predict |        No |       Yes | Row Total | \n",
      "-------------|-----------|-----------|-----------|\n",
      "          No |        69 |         6 |        75 | \n",
      "             |     3.709 |    10.028 |           | \n",
      "             |     0.920 |     0.080 |     0.750 | \n",
      "             |     0.945 |     0.222 |           | \n",
      "             |     0.690 |     0.060 |           | \n",
      "-------------|-----------|-----------|-----------|\n",
      "         Yes |         4 |        21 |        25 | \n",
      "             |    11.127 |    30.083 |           | \n",
      "             |     0.160 |     0.840 |     0.250 | \n",
      "             |     0.055 |     0.778 |           | \n",
      "             |     0.040 |     0.210 |           | \n",
      "-------------|-----------|-----------|-----------|\n",
      "Column Total |        73 |        27 |       100 | \n",
      "             |     0.730 |     0.270 |           | \n",
      "-------------|-----------|-----------|-----------|\n",
      "\n",
      " \n"
     ]
    }
   ],
   "source": [
    "library(gmodels)\n",
    "CrossTable(credit_predict, credit_test$score, dnn=c(\"predict\", \"actual\"))"
   ]
  },
  {
   "cell_type": "markdown",
   "metadata": {},
   "source": [
    "For improving the performance lets boost the technique by using the trails while building the model. This process is called as Adaboosting.The trials parameter sets an upper limit; the algorithm will stop adding trees if it recognizes that additional trials do not seem to be improving the accuracy."
   ]
  },
  {
   "cell_type": "code",
   "execution_count": 82,
   "metadata": {
    "collapsed": true
   },
   "outputs": [],
   "source": [
    "model<-C5.0(credit_train[-21], credit_train$score, trials = 10)\n",
    "credit_predict<-predict(model, credit_test[-21])"
   ]
  },
  {
   "cell_type": "code",
   "execution_count": 103,
   "metadata": {
    "collapsed": false
   },
   "outputs": [
    {
     "data": {
      "text/plain": [
       "\n",
       "Call:\n",
       "C5.0.default(x = credit_train[-21], y = credit_train$score, trials = 10)\n",
       "\n",
       "\n",
       "C5.0 [Release 2.07 GPL Edition]  \tWed May 17 16:49:24 2017\n",
       "-------------------------------\n",
       "\n",
       "Class specified by attribute `outcome'\n",
       "\n",
       "Read 900 cases (21 attributes) from undefined.data\n",
       "\n",
       "-----  Trial 0:  -----\n",
       "\n",
       "Decision tree:\n",
       "\n",
       "Checking.Account in {A13,A14}: No (412/50)\n",
       "Checking.Account in {A11,A12}:\n",
       ":...Other.Debtors = A103:\n",
       "    :...Duration > 36: Yes (4/1)\n",
       "    :   Duration <= 36:\n",
       "    :   :...Other.Installments.Plans in {A142,A143}: No (24)\n",
       "    :       Other.Installments.Plans = A141:\n",
       "    :       :...Puropose = A40: Yes (3)\n",
       "    :           Puropose in {A41,A410,A42,A43,A44,A45,A46,A48,A49}: No (7/1)\n",
       "    Other.Debtors in {A101,A102}:\n",
       "    :...Credit.History = A30: Yes (27/6)\n",
       "        Credit.History = A34: No (102/30)\n",
       "        Credit.History = A31:\n",
       "        :...Other.Debtors = A101: Yes (26/8)\n",
       "        :   Other.Debtors = A102: No (2)\n",
       "        Credit.History in {A32,A33}:\n",
       "        :...Savings in {A63,A64}: No (19/3)\n",
       "            Savings = A62:\n",
       "            :...Other.Debtors = A102: Yes (3)\n",
       "            :   Other.Debtors = A101:\n",
       "            :   :...Sex in {A91,A94}: Yes (6/1)\n",
       "            :       Sex = A92:\n",
       "            :       :...Installment.Rate <= 3: No (4/1)\n",
       "            :       :   Installment.Rate > 3: Yes (4)\n",
       "            :       Sex = A93:\n",
       "            :       :...Age <= 41: No (15/2)\n",
       "            :           Age > 41: Yes (2)\n",
       "            Savings = A65:\n",
       "            :...Credit.History = A33: No (8)\n",
       "            :   Credit.History = A32:\n",
       "            :   :...foreign.Walker = A202: No (2)\n",
       "            :       foreign.Walker = A201:\n",
       "            :       :...Checking.Account = A11:\n",
       "            :           :...Telephone = A191: Yes (11/2)\n",
       "            :           :   Telephone = A192:\n",
       "            :           :   :...Credit.Amount <= 5045: No (5/1)\n",
       "            :           :       Credit.Amount > 5045: Yes (2)\n",
       "            :           Checking.Account = A12:\n",
       "            :           :...Residence.Since > 3: No (9)\n",
       "            :               Residence.Since <= 3:\n",
       "            :               :...Real.Estate in {A122,A124}: Yes (4)\n",
       "            :                   Real.Estate = A123: No (6)\n",
       "            :                   Real.Estate = A121:\n",
       "            :                   :...Job in {A171,A172,A174}: No (2)\n",
       "            :                       Job = A173: Yes (2)\n",
       "            Savings = A61:\n",
       "            :...Duration > 39:\n",
       "                :...Residence.Since <= 1: No (2)\n",
       "                :   Residence.Since > 1: Yes (19/1)\n",
       "                Duration <= 39:\n",
       "                :...Puropose in {A40,A48}: Yes (47/16)\n",
       "                    Puropose in {A410,A44}: No (3)\n",
       "                    Puropose = A41:\n",
       "                    :...Credit.Amount <= 8086: No (9/1)\n",
       "                    :   Credit.Amount > 8086: Yes (5)\n",
       "                    Puropose = A45:\n",
       "                    :...Residence.Since <= 3: Yes (4/1)\n",
       "                    :   Residence.Since > 3: No (3)\n",
       "                    Puropose = A46:\n",
       "                    :...Checking.Account = A11: Yes (5)\n",
       "                    :   Checking.Account = A12: No (2)\n",
       "                    Puropose = A49:\n",
       "                    :...Credit.History = A33: Yes (2)\n",
       "                    :   Credit.History = A32:\n",
       "                    :   :...Age <= 34: No (5)\n",
       "                    :       Age > 34: Yes (2)\n",
       "                    Puropose = A43:\n",
       "                    :...employment in {A71,A72}: Yes (14/5)\n",
       "                    :   employment = A74: No (3)\n",
       "                    :   employment = A75:\n",
       "                    :   :...Credit.Amount <= 932: Yes (2)\n",
       "                    :   :   Credit.Amount > 932: No (7)\n",
       "                    :   employment = A73:\n",
       "                    :   :...Duration <= 15: No (6)\n",
       "                    :       Duration > 15:\n",
       "                    :       :...Credit.Amount <= 3275: Yes (7)\n",
       "                    :           Credit.Amount > 3275: No (2)\n",
       "                    Puropose = A42:\n",
       "                    :...Residence.Since <= 1: No (8/1)\n",
       "                        Residence.Since > 1:\n",
       "                        :...Other.Installments.Plans in {A141,\n",
       "                            :                            A142}: No (3/1)\n",
       "                            Other.Installments.Plans = A143:\n",
       "                            :...Telephone = A192: Yes (7/1)\n",
       "                                Telephone = A191:\n",
       "                                :...Duration > 27: Yes (3)\n",
       "                                    Duration <= 27:\n",
       "                                    :...Checking.Account = A12: Yes (5/2)\n",
       "                                        Checking.Account = A11:\n",
       "                                        :...Real.Estate in {A121,A122,\n",
       "                                            :               A124}: No (8)\n",
       "                                            Real.Estate = A123: [S1]\n",
       "\n",
       "SubTree [S1]\n",
       "\n",
       "Installment.Rate <= 1: No (2)\n",
       "Installment.Rate > 1: Yes (4)\n",
       "\n",
       "-----  Trial 1:  -----\n",
       "\n",
       "Decision tree:\n",
       "\n",
       "foreign.Walker = A202: No (28.4/2.4)\n",
       "foreign.Walker = A201:\n",
       ":...Checking.Account = A14:\n",
       "    :...Other.Installments.Plans in {A141,A142}:\n",
       "    :   :...Other.Debtors in {A102,A103}: No (2.4)\n",
       "    :   :   Other.Debtors = A101:\n",
       "    :   :   :...employment in {A71,A73}: Yes (31/7.1)\n",
       "    :   :       employment in {A72,A74,A75}: No (32.3/10.8)\n",
       "    :   Other.Installments.Plans = A143:\n",
       "    :   :...Credit.History in {A30,A31,A32,A34}: No (224.7/32.5)\n",
       "    :       Credit.History = A33:\n",
       "    :       :...Residence.Since <= 1: Yes (4.3)\n",
       "    :           Residence.Since > 1:\n",
       "    :           :...Installment.Rate <= 3: No (11.9)\n",
       "    :               Installment.Rate > 3: Yes (14.2/5.6)\n",
       "    Checking.Account in {A11,A12,A13}:\n",
       "    :...Other.Debtors = A102: Yes (24.3/7.9)\n",
       "        Other.Debtors = A103:\n",
       "        :...Real.Estate in {A121,A122,A124}: No (27.6/4)\n",
       "        :   Real.Estate = A123: Yes (3)\n",
       "        Other.Debtors = A101:\n",
       "        :...Installment.Rate <= 2:\n",
       "            :...Puropose in {A40,A41,A410,A43,A44,A48,A49}: No (125.5/34.3)\n",
       "            :   Puropose in {A45,A46}: Yes (13.6/4.8)\n",
       "            :   Puropose = A42:\n",
       "            :   :...Job in {A171,A174}: Yes (4.3)\n",
       "            :       Job in {A172,A173}:\n",
       "            :       :...maintainence > 1: Yes (2.2)\n",
       "            :           maintainence <= 1:\n",
       "            :           :...Checking.Account = A13: No (4)\n",
       "            :               Checking.Account in {A11,A12}:\n",
       "            :               :...Telephone = A191: Yes (24.9/10.1)\n",
       "            :                   Telephone = A192: No (10.1/2.4)\n",
       "            Installment.Rate > 2:\n",
       "            :...Residence.Since <= 1: No (39/8.5)\n",
       "                Residence.Since > 1:\n",
       "                :...Credit.History = A30: Yes (11.7)\n",
       "                    Credit.History in {A31,A32,A33,A34}:\n",
       "                    :...Duration <= 11:\n",
       "                        :...Puropose in {A40,A41,A410,A42,A43,A44,A45,A48,\n",
       "                        :   :            A49}: No (35.2/6.9)\n",
       "                        :   Puropose = A46: Yes (5.3/0.8)\n",
       "                        Duration > 11:\n",
       "                        :...Savings = A63: Yes (15.4/5.9)\n",
       "                            Savings = A64: No (9.1/2.2)\n",
       "                            Savings = A62:\n",
       "                            :...Other.Installments.Plans in {A141,\n",
       "                            :   :                            A142}: Yes (8.3/0.8)\n",
       "                            :   Other.Installments.Plans = A143: No (16.2/4.5)\n",
       "                            Savings = A65:\n",
       "                            :...Checking.Account in {A11,A13}: Yes (20.8/5.6)\n",
       "                            :   Checking.Account = A12: No (12.7/1.6)\n",
       "                            Savings = A61:\n",
       "                            :...Other.Installments.Plans in {A141,\n",
       "                                :                            A142}: Yes (25.3/3.2)\n",
       "                                Other.Installments.Plans = A143:\n",
       "                                :...maintainence > 1: No (14.4/5.6)\n",
       "                                    maintainence <= 1:\n",
       "                                    :...Duration > 42: Yes (11.5)\n",
       "                                        Duration <= 42:\n",
       "                                        :...Credit.History in {A31,\n",
       "                                            :                  A33}: Yes (5.3)\n",
       "                                            Credit.History = A32:\n",
       "                                            :...Job in {A172,\n",
       "                                            :   :       A174}: No (23.2/8.7)\n",
       "                                            :   Job in {A171,\n",
       "                                            :           A173}: Yes (24.2/7.1)\n",
       "                                            Credit.History = A34:\n",
       "                                            :...existing.credits <= 1: No (6.9/2.2)\n",
       "                                                existing.credits > 1: [S1]\n",
       "\n",
       "SubTree [S1]\n",
       "\n",
       "Puropose in {A40,A410,A42,A44,A45,A46,A48,A49}: Yes (22.7/3.2)\n",
       "Puropose in {A41,A43}: No (4)\n",
       "\n",
       "-----  Trial 2:  -----\n",
       "\n",
       "Decision tree:\n",
       "\n",
       "Checking.Account = A14:\n",
       ":...Other.Installments.Plans = A141:\n",
       ":   :...Other.Debtors = A103: Yes (0)\n",
       ":   :   Other.Debtors = A102: No (1.3)\n",
       ":   :   Other.Debtors = A101:\n",
       ":   :   :...Duration <= 8: No (3.4)\n",
       ":   :       Duration > 8: Yes (44.9/16.4)\n",
       ":   Other.Installments.Plans in {A142,A143}:\n",
       ":   :...employment in {A71,A72}:\n",
       ":       :...Other.Debtors = A103: No (0)\n",
       ":       :   Other.Debtors = A102: Yes (8.6)\n",
       ":       :   Other.Debtors = A101:\n",
       ":       :   :...Duration > 30: Yes (7.5)\n",
       ":       :       Duration <= 30:\n",
       ":       :       :...Housing in {A151,A153}: No (5.8)\n",
       ":       :           Housing = A152:\n",
       ":       :           :...Credit.Amount > 4594: Yes (5.8)\n",
       ":       :               Credit.Amount <= 4594:\n",
       ":       :               :...Puropose in {A40,A41,A410,A42,A43,A44,A46,\n",
       ":       :                   :            A48}: No (20.7)\n",
       ":       :                   Puropose in {A45,A49}: Yes (4.6)\n",
       ":       employment in {A73,A74,A75}:\n",
       ":       :...Installment.Rate <= 3: No (91.9/5.8)\n",
       ":           Installment.Rate > 3:\n",
       ":           :...Age > 30: No (70.1/5.3)\n",
       ":               Age <= 30:\n",
       ":               :...Other.Debtors = A102: No (0.6)\n",
       ":                   Other.Debtors = A103: Yes (3.5/0.6)\n",
       ":                   Other.Debtors = A101:\n",
       ":                   :...Housing = A151: Yes (4.8/1.9)\n",
       ":                       Housing = A153: No (0.6)\n",
       ":                       Housing = A152:\n",
       ":                       :...Credit.Amount <= 1445: No (8)\n",
       ":                           Credit.Amount > 1445: Yes (23.7/8)\n",
       "Checking.Account in {A11,A12,A13}:\n",
       ":...Duration > 42:\n",
       "    :...Savings in {A61,A62,A64}: Yes (42.1/6.1)\n",
       "    :   Savings in {A63,A65}: No (7.2)\n",
       "    Duration <= 42:\n",
       "    :...foreign.Walker = A202: No (15.8/3)\n",
       "        foreign.Walker = A201:\n",
       "        :...Other.Debtors = A102: No (26.3/12.7)\n",
       "            Other.Debtors = A103:\n",
       "            :...Other.Installments.Plans = A141: Yes (9.5/3.2)\n",
       "            :   Other.Installments.Plans in {A142,A143}: No (17.5/1.5)\n",
       "            Other.Debtors = A101:\n",
       "            :...Puropose in {A410,A44,A48}: No (10/1.9)\n",
       "                Puropose = A45: Yes (14.2/6.1)\n",
       "                Puropose = A46:\n",
       "                :...Checking.Account = A11: Yes (10.1)\n",
       "                :   Checking.Account in {A12,A13}: No (18.2/7.3)\n",
       "                Puropose = A41:\n",
       "                :...Credit.History in {A30,A33,A34}: No (7.8)\n",
       "                :   Credit.History in {A31,A32}:\n",
       "                :   :...Credit.Amount <= 3161: No (6.5)\n",
       "                :       Credit.Amount > 3161: Yes (20.4/5.7)\n",
       "                Puropose = A49:\n",
       "                :...Duration <= 18: No (11.3)\n",
       "                :   Duration > 18:\n",
       "                :   :...Telephone = A191: No (10.4/2.8)\n",
       "                :       Telephone = A192: Yes (19.9/6)\n",
       "                Puropose = A40:\n",
       "                :...Credit.History in {A30,A31}: Yes (11/1.8)\n",
       "                :   Credit.History = A33: No (14.6/6.7)\n",
       "                :   Credit.History = A34:\n",
       "                :   :...Installment.Rate <= 3: No (9.3)\n",
       "                :   :   Installment.Rate > 3: Yes (21/6.9)\n",
       "                :   Credit.History = A32:\n",
       "                :   :...Sex = A91: Yes (3)\n",
       "                :       Sex = A94: No (6.3/2.2)\n",
       "                :       Sex = A92:\n",
       "                :       :...Job in {A171,A174}: No (2.6)\n",
       "                :       :   Job in {A172,A173}: Yes (27.2/3.5)\n",
       "                :       Sex = A93:\n",
       "                :       :...Credit.Amount <= 8229: No (29.5/9.1)\n",
       "                :           Credit.Amount > 8229: Yes (6)\n",
       "                Puropose = A43:\n",
       "                :...employment in {A74,A75}: No (34.3/5)\n",
       "                :   employment in {A71,A72,A73}:\n",
       "                :   :...existing.credits > 1: Yes (13.6/2.2)\n",
       "                :       existing.credits <= 1:\n",
       "                :       :...Savings in {A62,A64,A65}: Yes (7.3/1.3)\n",
       "                :           Savings = A63: No (6.5/1.8)\n",
       "                :           Savings = A61:\n",
       "                :           :...Credit.Amount > 4473: No (4.2)\n",
       "                :               Credit.Amount <= 4473:\n",
       "                :               :...Duration <= 7: No (2.4)\n",
       "                :                   Duration > 7: Yes (40.6/11.5)\n",
       "                Puropose = A42:\n",
       "                :...Other.Installments.Plans = A142: No (11.2)\n",
       "                    Other.Installments.Plans in {A141,A143}:\n",
       "                    :...maintainence > 1: Yes (5.2/0.6)\n",
       "                        maintainence <= 1:\n",
       "                        :...Checking.Account = A13: No (6.9)\n",
       "                            Checking.Account in {A11,A12}:\n",
       "                            :...Savings in {A62,A63}: Yes (3.7/0.6)\n",
       "                                Savings in {A64,A65}: No (14/4.3)\n",
       "                                Savings = A61:\n",
       "                                :...Job in {A171,A172,A174}: Yes (24.6/9.1)\n",
       "                                    Job = A173:\n",
       "                                    :...Credit.History in {A30,A32,A33,\n",
       "                                        :                  A34}: No (38.6/13.8)\n",
       "                                        Credit.History = A31: Yes (2.8)\n",
       "\n",
       "-----  Trial 3:  -----\n",
       "\n",
       "Decision tree:\n",
       "\n",
       "Checking.Account = A14:\n",
       ":...employment in {A73,A74,A75}: No (235.6/50.4)\n",
       ":   employment in {A71,A72}:\n",
       ":   :...Other.Debtors = A103: No (0)\n",
       ":       Other.Debtors = A102: Yes (7.5/0.5)\n",
       ":       Other.Debtors = A101:\n",
       ":       :...Puropose = A410: No (0)\n",
       ":           Puropose in {A45,A49}: Yes (9)\n",
       ":           Puropose in {A40,A41,A42,A43,A44,A46,A48}:\n",
       ":           :...Credit.Amount <= 4594: No (23.4)\n",
       ":               Credit.Amount > 4594: Yes (11.8/1.1)\n",
       "Checking.Account in {A11,A12,A13}:\n",
       ":...Other.Debtors = A103: No (31.5/9.1)\n",
       "    Other.Debtors = A102:\n",
       "    :...Savings in {A63,A64}: Yes (0)\n",
       "    :   Savings = A65: No (3.5)\n",
       "    :   Savings in {A61,A62}:\n",
       "    :   :...Credit.Amount <= 2022: No (5.4)\n",
       "    :       Credit.Amount > 2022:\n",
       "    :       :...employment = A71: No (2.4)\n",
       "    :           employment in {A72,A73,A74,A75}: Yes (24.5/2.4)\n",
       "    Other.Debtors = A101:\n",
       "    :...Puropose in {A410,A44}: Yes (9.8/4.6)\n",
       "        Puropose in {A45,A48}: No (22/8)\n",
       "        Puropose = A41:\n",
       "        :...Sex in {A91,A93}: No (29.7/6.9)\n",
       "        :   Sex in {A92,A94}: Yes (13/4.1)\n",
       "        Puropose = A46:\n",
       "        :...employment in {A71,A72,A73,A75}: Yes (25.7/5.9)\n",
       "        :   employment = A74: No (5.9/1.4)\n",
       "        Puropose = A49:\n",
       "        :...Age > 46: Yes (5.2)\n",
       "        :   Age <= 46:\n",
       "        :   :...Credit.Amount <= 10722: No (43.7/12.9)\n",
       "        :       Credit.Amount > 10722: Yes (3.7)\n",
       "        Puropose = A40:\n",
       "        :...Credit.History = A34:\n",
       "        :   :...Sex in {A91,A92,A93}: No (31.7/7.2)\n",
       "        :   :   Sex = A94: Yes (4.3)\n",
       "        :   Credit.History in {A30,A31,A32,A33}:\n",
       "        :   :...Installment.Rate > 2: Yes (63.2/15.8)\n",
       "        :       Installment.Rate <= 2:\n",
       "        :       :...employment = A75: Yes (9.4)\n",
       "        :           employment in {A71,A72,A73,A74}:\n",
       "        :           :...Credit.Amount <= 1386: Yes (7.7/0.5)\n",
       "        :               Credit.Amount > 1386: No (31.5/7.2)\n",
       "        Puropose = A43:\n",
       "        :...maintainence > 1: Yes (8.5/1.6)\n",
       "        :   maintainence <= 1:\n",
       "        :   :...employment = A75: No (15.9/1.4)\n",
       "        :       employment in {A71,A72,A73,A74}:\n",
       "        :       :...Housing = A151: No (15.2/5.8)\n",
       "        :           Housing = A153: Yes (4.2/0.5)\n",
       "        :           Housing = A152:\n",
       "        :           :...Duration <= 39: No (68/30)\n",
       "        :               Duration > 39: Yes (7.4/0.5)\n",
       "        Puropose = A42:\n",
       "        :...Other.Installments.Plans = A142: No (9.1)\n",
       "            Other.Installments.Plans in {A141,A143}:\n",
       "            :...Credit.Amount > 4281: Yes (15.8/2.8)\n",
       "                Credit.Amount <= 4281:\n",
       "                :...Housing = A153: No (6.6/0.5)\n",
       "                    Housing in {A151,A152}:\n",
       "                    :...Credit.Amount > 3573: No (17/3.4)\n",
       "                        Credit.Amount <= 3573:\n",
       "                        :...Sex = A91: No (7.5/2)\n",
       "                            Sex in {A93,A94}: Yes (25.6/10.2)\n",
       "                            Sex = A92:\n",
       "                            :...Residence.Since <= 1: No (4.1)\n",
       "                                Residence.Since > 1:\n",
       "                                :...Age <= 37: Yes (30/6.1)\n",
       "                                    Age > 37: No (4.1)\n",
       "\n",
       "-----  Trial 4:  -----\n",
       "\n",
       "Decision tree:\n",
       "\n",
       "Duration <= 7:\n",
       ":...Credit.Amount <= 3380: No (48.6/5)\n",
       ":   Credit.Amount > 3380: Yes (9.2/2.2)\n",
       "Duration > 7:\n",
       ":...Savings in {A64,A65}:\n",
       "    :...Other.Debtors = A102: No (3.7)\n",
       "    :   Other.Debtors = A103: Yes (4.7/1.6)\n",
       "    :   Other.Debtors = A101:\n",
       "    :   :...Real.Estate in {A122,A124}:\n",
       "    :       :...foreign.Walker = A202: No (2.5)\n",
       "    :       :   foreign.Walker = A201:\n",
       "    :       :   :...Savings = A64: Yes (15.8/3)\n",
       "    :       :       Savings = A65:\n",
       "    :       :       :...Installment.Rate <= 1: Yes (7.2/1.2)\n",
       "    :       :           Installment.Rate > 1: No (42.5/12.1)\n",
       "    :       Real.Estate in {A121,A123}:\n",
       "    :       :...Savings = A64: No (19.3)\n",
       "    :           Savings = A65:\n",
       "    :           :...Residence.Since > 3: No (25/1.6)\n",
       "    :               Residence.Since <= 3:\n",
       "    :               :...Real.Estate = A121: Yes (14.8/5.5)\n",
       "    :                   Real.Estate = A123:\n",
       "    :                   :...Checking.Account = A11: Yes (6.4/1.2)\n",
       "    :                       Checking.Account in {A12,A13,A14}: No (20.8/1.9)\n",
       "    Savings in {A61,A62,A63}:\n",
       "    :...Checking.Account in {A13,A14}:\n",
       "        :...Other.Debtors = A102: Yes (12.1/4.3)\n",
       "        :   Other.Debtors = A103: No (2.9)\n",
       "        :   Other.Debtors = A101:\n",
       "        :   :...Age > 48: No (17.2/1.2)\n",
       "        :       Age <= 48:\n",
       "        :       :...Puropose in {A41,A410,A44,A48}: No (17.1/2.1)\n",
       "        :           Puropose in {A45,A46,A49}: Yes (36.9/15.9)\n",
       "        :           Puropose = A40:\n",
       "        :           :...Other.Installments.Plans in {A141,A142}: Yes (12.5/0.9)\n",
       "        :           :   Other.Installments.Plans = A143: No (21.1/6.4)\n",
       "        :           Puropose = A42:\n",
       "        :           :...Duration <= 30: No (31.8/8.5)\n",
       "        :           :   Duration > 30: Yes (7.7/0.9)\n",
       "        :           Puropose = A43:\n",
       "        :           :...Duration <= 9: Yes (8.7/0.4)\n",
       "        :               Duration > 9:\n",
       "        :               :...Credit.Amount <= 2323: No (24.6)\n",
       "        :                   Credit.Amount > 2323:\n",
       "        :                   :...Credit.History in {A30,A31,A34}: No (6.7)\n",
       "        :                       Credit.History in {A32,A33}:\n",
       "        :                       :...existing.credits <= 1: No (12.6/5.2)\n",
       "        :                           existing.credits > 1: Yes (11/1.4)\n",
       "        Checking.Account in {A11,A12}:\n",
       "        :...Duration <= 22:\n",
       "            :...Job = A171: Yes (6.9/0.9)\n",
       "            :   Job = A174: No (22.6/9.3)\n",
       "            :   Job = A172:\n",
       "            :   :...Age <= 54: No (58.5/14.7)\n",
       "            :   :   Age > 54: Yes (7.5/0.9)\n",
       "            :   Job = A173:\n",
       "            :   :...Credit.History = A31: Yes (4.8)\n",
       "            :       Credit.History = A33: No (4.3/0.4)\n",
       "            :       Credit.History in {A30,A32,A34}:\n",
       "            :       :...Credit.Amount <= 1381:\n",
       "            :           :...Real.Estate in {A123,A124}: Yes (18.7/0.4)\n",
       "            :           :   Real.Estate in {A121,A122}:\n",
       "            :           :   :...foreign.Walker = A202: No (2)\n",
       "            :           :       foreign.Walker = A201:\n",
       "            :           :       :...Credit.Amount <= 662: No (5)\n",
       "            :           :           Credit.Amount > 662: Yes (25.4/5.4)\n",
       "            :           Credit.Amount > 1381:\n",
       "            :           :...employment in {A71,A74}: No (13.3)\n",
       "            :               employment in {A72,A73,A75}:\n",
       "            :               :...Housing = A152: No (37.8/12.6)\n",
       "            :                   Housing = A153: Yes (2.6)\n",
       "            :                   Housing = A151:\n",
       "            :                   :...Credit.Amount <= 1480: No (4)\n",
       "            :                       Credit.Amount > 1480: Yes (22.5/4.4)\n",
       "            Duration > 22:\n",
       "            :...Job = A171: No (1.4)\n",
       "                Job = A172: Yes (38.6/5.5)\n",
       "                Job in {A173,A174}:\n",
       "                :...existing.credits > 1: Yes (63.2/17.9)\n",
       "                    existing.credits <= 1:\n",
       "                    :...Sex in {A91,A94}: Yes (17.1/4.4)\n",
       "                        Sex = A92:\n",
       "                        :...Age <= 52: Yes (25.8/5)\n",
       "                        :   Age > 52: No (2.2)\n",
       "                        Sex = A93:\n",
       "                        :...Other.Debtors = A102: Yes (4)\n",
       "                            Other.Debtors = A103: No (3.2)\n",
       "                            Other.Debtors = A101:\n",
       "                            :...Credit.Amount > 7596: Yes (14.2/3.1)\n",
       "                                Credit.Amount <= 7596:\n",
       "                                :...Installment.Rate <= 2: No (11.6)\n",
       "                                    Installment.Rate > 2:\n",
       "                                    :...Age <= 32: No (29.3/8.5)\n",
       "                                        Age > 32: Yes (9.9/2.8)\n",
       "\n",
       "-----  Trial 5:  -----\n",
       "\n",
       "Decision tree:\n",
       "\n",
       "Checking.Account = A14:\n",
       ":...Other.Installments.Plans = A142: No (14.6/5.4)\n",
       ":   Other.Installments.Plans = A141:\n",
       ":   :...Other.Debtors in {A102,A103}: No (3.1)\n",
       ":   :   Other.Debtors = A101:\n",
       ":   :   :...existing.credits > 2: No (3.8)\n",
       ":   :       existing.credits <= 2:\n",
       ":   :       :...Housing = A151: Yes (7/0.4)\n",
       ":   :           Housing = A153: No (8.2/1.7)\n",
       ":   :           Housing = A152:\n",
       ":   :           :...Telephone = A192: Yes (8.7/1.9)\n",
       ":   :               Telephone = A191:\n",
       ":   :               :...Age <= 30: No (6)\n",
       ":   :                   Age > 30: Yes (19.2/7)\n",
       ":   Other.Installments.Plans = A143:\n",
       ":   :...Credit.History in {A30,A31,A34}: No (63.7/4)\n",
       ":       Credit.History in {A32,A33}:\n",
       ":       :...existing.credits <= 1:\n",
       ":           :...Puropose in {A40,A41,A410,A43,A44,A46,A48,A49}: No (62.4/8.2)\n",
       ":           :   Puropose in {A42,A45}: Yes (20/6.2)\n",
       ":           existing.credits > 1:\n",
       ":           :...employment = A74: No (7.6)\n",
       ":               employment in {A71,A72,A73,A75}:\n",
       ":               :...Job in {A171,A174}: Yes (6.9)\n",
       ":                   Job in {A172,A173}:\n",
       ":                   :...employment in {A72,A75}: Yes (19.8/4.4)\n",
       ":                       employment in {A71,A73}: No (7.2)\n",
       "Checking.Account in {A11,A12,A13}:\n",
       ":...Real.Estate = A124:\n",
       "    :...Job = A172: Yes (10.7)\n",
       "    :   Job in {A171,A173,A174}:\n",
       "    :   :...Installment.Rate <= 2: No (31.5/11)\n",
       "    :       Installment.Rate > 2:\n",
       "    :       :...Job = A171: No (1)\n",
       "    :           Job = A173: Yes (40.9/10.1)\n",
       "    :           Job = A174:\n",
       "    :           :...maintainence > 1: No (2.2)\n",
       "    :               maintainence <= 1:\n",
       "    :               :...Residence.Since <= 1: No (4.8/1)\n",
       "    :                   Residence.Since > 1: Yes (19.4/4.5)\n",
       "    Real.Estate in {A121,A122,A123}:\n",
       "    :...Puropose in {A410,A44,A45,A48}: No (28.8/11.1)\n",
       "        Puropose = A46: Yes (21.7/9.7)\n",
       "        Puropose = A41:\n",
       "        :...Credit.Amount <= 7253: No (20.5/1)\n",
       "        :   Credit.Amount > 7253: Yes (6.7/1.9)\n",
       "        Puropose = A49:\n",
       "        :...Duration <= 18: No (10.1)\n",
       "        :   Duration > 18:\n",
       "        :   :...Housing = A153: No (0)\n",
       "        :       Housing = A151: Yes (9.4/1.9)\n",
       "        :       Housing = A152:\n",
       "        :       :...Savings in {A62,A63,A64,A65}: No (11.1)\n",
       "        :           Savings = A61:\n",
       "        :           :...Credit.Amount <= 2292: Yes (7.7)\n",
       "        :               Credit.Amount > 2292: No (17.4/7.2)\n",
       "        Puropose = A43:\n",
       "        :...Duration <= 8: No (6.8)\n",
       "        :   Duration > 8:\n",
       "        :   :...Savings = A64: Yes (0)\n",
       "        :       Savings = A65: No (15.1/2.5)\n",
       "        :       Savings in {A61,A62,A63}:\n",
       "        :       :...Duration > 36: Yes (8.6)\n",
       "        :           Duration <= 36:\n",
       "        :           :...Other.Debtors = A102: Yes (2.5/0.8)\n",
       "        :               Other.Debtors = A103: No (9.1/1.7)\n",
       "        :               Other.Debtors = A101:\n",
       "        :               :...employment in {A71,A72}: Yes (25.9/5.8)\n",
       "        :                   employment in {A74,A75}: No (22.2/5.7)\n",
       "        :                   employment = A73:\n",
       "        :                   :...Duration <= 15: No (21.4/8.1)\n",
       "        :                       Duration > 15: Yes (23.7/5)\n",
       "        Puropose = A42:\n",
       "        :...Other.Installments.Plans = A142: No (6.1)\n",
       "        :   Other.Installments.Plans in {A141,A143}:\n",
       "        :   :...Other.Debtors = A103: No (4.3)\n",
       "        :       Other.Debtors in {A101,A102}:\n",
       "        :       :...Savings in {A62,A63}: Yes (4.1)\n",
       "        :           Savings = A64: No (5.1)\n",
       "        :           Savings in {A61,A65}:\n",
       "        :           :...Telephone = A192: No (30.4/9.6)\n",
       "        :               Telephone = A191:\n",
       "        :               :...Sex = A91: No (4.3)\n",
       "        :                   Sex in {A93,A94}: Yes (33.4/9.9)\n",
       "        :                   Sex = A92:\n",
       "        :                   :...Other.Installments.Plans = A141: Yes (2.7)\n",
       "        :                       Other.Installments.Plans = A143:\n",
       "        :                       :...Duration <= 9: Yes (3.1)\n",
       "        :                           Duration > 9: No (26.5/8.1)\n",
       "        Puropose = A40:\n",
       "        :...Other.Debtors in {A102,A103}: Yes (12.4/2.8)\n",
       "            Other.Debtors = A101:\n",
       "            :...Real.Estate = A121:\n",
       "                :...Other.Installments.Plans in {A141,A142}: Yes (2.7)\n",
       "                :   Other.Installments.Plans = A143:\n",
       "                :   :...Credit.Amount > 4380: No (6)\n",
       "                :       Credit.Amount <= 4380:\n",
       "                :       :...Sex in {A91,A92}: Yes (7.3/0.4)\n",
       "                :           Sex in {A93,A94}: No (29.7/6.1)\n",
       "                Real.Estate in {A122,A123}:\n",
       "                :...Checking.Account = A13: No (3.7)\n",
       "                    Checking.Account in {A11,A12}:\n",
       "                    :...Credit.Amount <= 1126: Yes (19.7/0.4)\n",
       "                        Credit.Amount > 1126:\n",
       "                        :...Other.Installments.Plans = A142: Yes (0)\n",
       "                            Other.Installments.Plans = A141: No (3.2)\n",
       "                            Other.Installments.Plans = A143:\n",
       "                            :...maintainence > 1: No (5.9/1.2)\n",
       "                                maintainence <= 1:\n",
       "                                :...Job in {A171,A172,A174}: Yes (19/3)\n",
       "                                    Job = A173:\n",
       "                                    :...Installment.Rate <= 1: No (4.9)\n",
       "                                        Installment.Rate > 1:\n",
       "                                        :...Age <= 36: Yes (23.5/7.3)\n",
       "                                            Age > 36: No (4.8)\n",
       "\n",
       "-----  Trial 6:  -----\n",
       "\n",
       "Decision tree:\n",
       "\n",
       "Checking.Account in {A13,A14}:\n",
       ":...foreign.Walker = A202: No (6.9)\n",
       ":   foreign.Walker = A201:\n",
       ":   :...Duration <= 8: No (23.8/1.3)\n",
       ":       Duration > 8:\n",
       ":       :...Job in {A171,A173,A174}:\n",
       ":           :...employment = A75: No (67.6/8.6)\n",
       ":           :   employment in {A71,A72,A73,A74}:\n",
       ":           :   :...Puropose in {A41,A410,A44,A45,A48}: No (21.8/2)\n",
       ":           :       Puropose = A46: Yes (16.3/8.1)\n",
       ":           :       Puropose = A40:\n",
       ":           :       :...Real.Estate in {A121,A122,A124}: Yes (20.1/5.9)\n",
       ":           :       :   Real.Estate = A123: No (4.1)\n",
       ":           :       Puropose = A49:\n",
       ":           :       :...existing.credits <= 2: No (23.5/8.6)\n",
       ":           :       :   existing.credits > 2: Yes (2.9)\n",
       ":           :       Puropose = A42:\n",
       ":           :       :...Duration > 30: Yes (7.5/1.9)\n",
       ":           :       :   Duration <= 30:\n",
       ":           :       :   :...Age <= 22: Yes (4.8/1.2)\n",
       ":           :       :       Age > 22: No (18.5)\n",
       ":           :       Puropose = A43:\n",
       ":           :       :...maintainence > 1: No (4.3)\n",
       ":           :           maintainence <= 1:\n",
       ":           :           :...Duration <= 9: Yes (4.7)\n",
       ":           :               Duration > 9:\n",
       ":           :               :...Installment.Rate <= 1: Yes (2.1)\n",
       ":           :                   Installment.Rate > 1: No (38.2/9.1)\n",
       ":           Job = A172:\n",
       ":           :...Age > 48: No (6.3)\n",
       ":               Age <= 48:\n",
       ":               :...Puropose in {A410,A44,A45}: Yes (0)\n",
       ":                   Puropose in {A48,A49}: No (5.2)\n",
       ":                   Puropose in {A40,A41,A42,A43,A46}:\n",
       ":                   :...Other.Installments.Plans = A141: Yes (13.7/2.6)\n",
       ":                       Other.Installments.Plans = A142: No (1.5)\n",
       ":                       Other.Installments.Plans = A143:\n",
       ":                       :...Credit.History = A31: Yes (0)\n",
       ":                           Credit.History in {A30,A34}: No (3.1)\n",
       ":                           Credit.History in {A32,A33}:\n",
       ":                           :...Credit.Amount <= 3229: Yes (25.1/4.1)\n",
       ":                               Credit.Amount > 3229: No (3.5)\n",
       "Checking.Account in {A11,A12}:\n",
       ":...Credit.History in {A30,A31}:\n",
       "    :...Other.Debtors = A102: No (3.3)\n",
       "    :   Other.Debtors in {A101,A103}:\n",
       "    :   :...Real.Estate in {A122,A124}: Yes (36/3.1)\n",
       "    :       Real.Estate in {A121,A123}:\n",
       "    :       :...Housing in {A151,A153}: Yes (8/0.9)\n",
       "    :           Housing = A152:\n",
       "    :           :...Age <= 35: No (23.4/8.2)\n",
       "    :               Age > 35: Yes (7.1/0.8)\n",
       "    Credit.History in {A32,A33,A34}:\n",
       "    :...Other.Debtors = A103: No (24.3/7.1)\n",
       "        Other.Debtors = A102:\n",
       "        :...foreign.Walker = A202: No (3.5)\n",
       "        :   foreign.Walker = A201:\n",
       "        :   :...Other.Installments.Plans = A142: Yes (0)\n",
       "        :       Other.Installments.Plans = A141: No (1.3)\n",
       "        :       Other.Installments.Plans = A143:\n",
       "        :       :...Credit.Amount <= 1961: No (4.9)\n",
       "        :           Credit.Amount > 1961: Yes (18.9/4.5)\n",
       "        Other.Debtors = A101:\n",
       "        :...Credit.History = A33:\n",
       "            :...Savings in {A62,A63,A65}: No (22.9/2.7)\n",
       "            :   Savings in {A61,A64}:\n",
       "            :   :...Installment.Rate <= 1: No (4.8)\n",
       "            :       Installment.Rate > 1:\n",
       "            :       :...Job = A172: No (3.5/0.8)\n",
       "            :           Job in {A171,A173,A174}: Yes (21.6/1.9)\n",
       "            Credit.History = A34:\n",
       "            :...Residence.Since <= 1: No (7.4)\n",
       "            :   Residence.Since > 1:\n",
       "            :   :...Savings in {A62,A64,A65}: No (16.4/2.2)\n",
       "            :       Savings = A63: Yes (5.1/2.2)\n",
       "            :       Savings = A61:\n",
       "            :       :...Duration > 36: Yes (6.3)\n",
       "            :           Duration <= 36:\n",
       "            :           :...Sex in {A91,A94}: Yes (13.5/4.5)\n",
       "            :               Sex in {A92,A93}: No (54.8/18.5)\n",
       "            Credit.History = A32:\n",
       "            :...Savings = A64: No (6.2)\n",
       "                Savings in {A61,A62,A63,A65}:\n",
       "                :...Credit.Amount > 8086: Yes (22.1/1.8)\n",
       "                    Credit.Amount <= 8086:\n",
       "                    :...Puropose in {A41,A410,A45,A46}: No (43.7/12.1)\n",
       "                        Puropose in {A44,A48,A49}: Yes (16.6/5)\n",
       "                        Puropose = A40:\n",
       "                        :...employment = A71: No (5.7)\n",
       "                        :   employment in {A72,A73,A74,A75}: Yes (56.2/20.9)\n",
       "                        Puropose = A42:\n",
       "                        :...Residence.Since <= 1: No (9.3/2.1)\n",
       "                        :   Residence.Since > 1:\n",
       "                        :   :...Telephone = A192: Yes (16.5/6.8)\n",
       "                        :       Telephone = A191:\n",
       "                        :       :...Duration > 27: Yes (5.6)\n",
       "                        :           Duration <= 27:\n",
       "                        :           :...Credit.Amount <= 2520: Yes (20.1/6.9)\n",
       "                        :               Credit.Amount > 2520: No (11.4/1.6)\n",
       "                        Puropose = A43:\n",
       "                        :...Credit.Amount > 5324: Yes (6.9)\n",
       "                            Credit.Amount <= 5324:\n",
       "                            :...Credit.Amount > 3190: No (9.8/0.3)\n",
       "                                Credit.Amount <= 3190:\n",
       "                                :...Real.Estate in {A122,A124}: Yes (8.1/1.1)\n",
       "                                    Real.Estate = A121:\n",
       "                                    :...Duration <= 11: No (4.7)\n",
       "                                    :   Duration > 11: Yes (20.4/4.3)\n",
       "                                    Real.Estate = A123:\n",
       "                                    :...maintainence <= 1: No (20.1/7.6)\n",
       "                                        maintainence > 1: Yes (4.1/0.8)\n",
       "\n",
       "-----  Trial 7:  -----\n",
       "\n",
       "Decision tree:\n",
       "\n",
       "Checking.Account in {A11,A12}:\n",
       ":...Credit.History in {A30,A31}:\n",
       ":   :...Other.Debtors = A102: No (2.7)\n",
       ":   :   Other.Debtors in {A101,A103}:\n",
       ":   :   :...Age <= 22: No (3.8)\n",
       ":   :       Age > 22: Yes (66.8/16.7)\n",
       ":   Credit.History in {A32,A33,A34}:\n",
       ":   :...Puropose in {A41,A410}: No (47.7/16.6)\n",
       ":       Puropose in {A44,A45,A48}: Yes (26.3/10.1)\n",
       ":       Puropose = A46:\n",
       ":       :...employment in {A71,A72,A73,A75}: Yes (25.4/5.2)\n",
       ":       :   employment = A74: No (5.4)\n",
       ":       Puropose = A49:\n",
       ":       :...Sex = A91: Yes (4.4/0.6)\n",
       ":       :   Sex in {A92,A93,A94}: No (34.1/7.1)\n",
       ":       Puropose = A42:\n",
       ":       :...maintainence > 1: No (6.1/0.5)\n",
       ":       :   maintainence <= 1:\n",
       ":       :   :...Savings in {A62,A63}: Yes (6.6/1.5)\n",
       ":       :       Savings in {A64,A65}: No (21.7/7.5)\n",
       ":       :       Savings = A61:\n",
       ":       :       :...Sex = A94: No (5.1)\n",
       ":       :           Sex in {A91,A92,A93}:\n",
       ":       :           :...Credit.Amount <= 1893: No (25.1/5)\n",
       ":       :               Credit.Amount > 1893: Yes (54.1/17.9)\n",
       ":       Puropose = A40:\n",
       ":       :...Other.Installments.Plans in {A141,A142}: Yes (19.7/4.3)\n",
       ":       :   Other.Installments.Plans = A143:\n",
       ":       :   :...Job = A174: Yes (15.8/5.9)\n",
       ":       :       Job in {A171,A172,A173}:\n",
       ":       :       :...Checking.Account = A12: No (40.4/8.8)\n",
       ":       :           Checking.Account = A11:\n",
       ":       :           :...Installment.Rate <= 2: No (17.7/3.3)\n",
       ":       :               Installment.Rate > 2:\n",
       ":       :               :...Telephone = A191: Yes (30.3/8)\n",
       ":       :                   Telephone = A192: No (10.1/2.1)\n",
       ":       Puropose = A43:\n",
       ":       :...foreign.Walker = A202: No (3.1)\n",
       ":           foreign.Walker = A201:\n",
       ":           :...Duration <= 8: No (6.8)\n",
       ":               Duration > 8:\n",
       ":               :...employment in {A71,A74}: Yes (20.6/7)\n",
       ":                   employment = A75: No (15/4.1)\n",
       ":                   employment = A73:\n",
       ":                   :...Credit.History in {A32,A34}: Yes (33.8/13.6)\n",
       ":                   :   Credit.History = A33: No (3.3)\n",
       ":                   employment = A72:\n",
       ":                   :...Other.Debtors = A102: Yes (0)\n",
       ":                       Other.Debtors = A103: No (1.6)\n",
       ":                       Other.Debtors = A101:\n",
       ":                       :...Credit.Amount <= 2214: Yes (14.4)\n",
       ":                           Credit.Amount > 2214: No (12.4/4.6)\n",
       "Checking.Account in {A13,A14}:\n",
       ":...foreign.Walker = A202: No (5.6)\n",
       "    foreign.Walker = A201:\n",
       "    :...Other.Installments.Plans = A142: Yes (17.4/7.6)\n",
       "        Other.Installments.Plans = A141:\n",
       "        :...Housing = A151: Yes (5.4)\n",
       "        :   Housing in {A152,A153}: No (55/21.3)\n",
       "        Other.Installments.Plans = A143:\n",
       "        :...Credit.History in {A30,A31,A34}: No (69.3/11.6)\n",
       "            Credit.History = A33:\n",
       "            :...Residence.Since <= 1: Yes (3.5)\n",
       "            :   Residence.Since > 1:\n",
       "            :   :...Installment.Rate <= 3: No (9.2)\n",
       "            :       Installment.Rate > 3: Yes (21.3/7.6)\n",
       "            Credit.History = A32:\n",
       "            :...Telephone = A192: No (49.7/6.8)\n",
       "                Telephone = A191:\n",
       "                :...Other.Debtors in {A102,A103}: Yes (11.3/3.3)\n",
       "                    Other.Debtors = A101:\n",
       "                    :...Savings in {A64,A65}: No (11.2)\n",
       "                        Savings in {A61,A62,A63}:\n",
       "                        :...Sex in {A91,A94}: No (7.8)\n",
       "                            Sex in {A92,A93}:\n",
       "                            :...Housing = A151: No (10/2.5)\n",
       "                                Housing = A153: Yes (2.2/0.5)\n",
       "                                Housing = A152:\n",
       "                                :...Age <= 34: Yes (32.8/12.5)\n",
       "                                    Age > 34: No (8)\n",
       "\n",
       "-----  Trial 8:  -----\n",
       "\n",
       "Decision tree:\n",
       "\n",
       "Checking.Account in {A13,A14}:\n",
       ":...Other.Installments.Plans = A141:\n",
       ":   :...Other.Debtors = A103: Yes (0)\n",
       ":   :   Other.Debtors = A102: No (1.7)\n",
       ":   :   Other.Debtors = A101:\n",
       ":   :   :...existing.credits > 2: No (3.1)\n",
       ":   :       existing.credits <= 2:\n",
       ":   :       :...Savings in {A61,A63,A65}: Yes (47.7/16.8)\n",
       ":   :           Savings in {A62,A64}: No (9/1.6)\n",
       ":   Other.Installments.Plans in {A142,A143}:\n",
       ":   :...Puropose in {A41,A410,A44,A46,A48}: No (39.1/4.1)\n",
       ":       Puropose = A45: Yes (7.8/3.5)\n",
       ":       Puropose = A40:\n",
       ":       :...existing.credits <= 2: No (50/7.7)\n",
       ":       :   existing.credits > 2: Yes (3.4/0.6)\n",
       ":       Puropose = A42:\n",
       ":       :...Job in {A172,A173}: No (49.3/11.7)\n",
       ":       :   Job in {A171,A174}: Yes (5.7/1.9)\n",
       ":       Puropose = A49:\n",
       ":       :...Job in {A171,A172,A173}: No (18.7/4.2)\n",
       ":       :   Job = A174: Yes (7.9/0.7)\n",
       ":       Puropose = A43:\n",
       ":       :...Checking.Account = A13:\n",
       ":           :...Age <= 41: Yes (19.4/5.9)\n",
       ":           :   Age > 41: No (4.8)\n",
       ":           Checking.Account = A14:\n",
       ":           :...Age <= 23: Yes (6.6/1.7)\n",
       ":               Age > 23: No (38.6/4.2)\n",
       "Checking.Account in {A11,A12}:\n",
       ":...employment = A71:\n",
       "    :...Residence.Since <= 1: Yes (5.5)\n",
       "    :   Residence.Since > 1:\n",
       "    :   :...maintainence <= 1: No (39.3/9.7)\n",
       "    :       maintainence > 1: Yes (6.6/1.5)\n",
       "    employment = A74:\n",
       "    :...Age > 29: No (61.5/13.3)\n",
       "    :   Age <= 29:\n",
       "    :   :...Installment.Rate <= 1: No (3.6)\n",
       "    :       Installment.Rate > 1:\n",
       "    :       :...Savings in {A61,A62,A63,A64}: Yes (32.7/8.8)\n",
       "    :           Savings = A65: No (2.5)\n",
       "    employment = A72:\n",
       "    :...foreign.Walker = A202: No (5.5)\n",
       "    :   foreign.Walker = A201:\n",
       "    :   :...Housing = A151: Yes (32.9/7.3)\n",
       "    :       Housing = A153: No (7.5/2.5)\n",
       "    :       Housing = A152:\n",
       "    :       :...Savings in {A63,A64,A65}: No (7.9)\n",
       "    :           Savings in {A61,A62}:\n",
       "    :           :...Residence.Since <= 1: No (29/9.7)\n",
       "    :               Residence.Since > 1: Yes (33.5/8.4)\n",
       "    employment = A73:\n",
       "    :...Credit.Amount > 7721: Yes (13.6/0.6)\n",
       "    :   Credit.Amount <= 7721:\n",
       "    :   :...Housing = A153: Yes (6.7/2.9)\n",
       "    :       Housing = A151:\n",
       "    :       :...Residence.Since <= 3: No (10.3/4)\n",
       "    :       :   Residence.Since > 3: Yes (26/7.9)\n",
       "    :       Housing = A152:\n",
       "    :       :...Sex = A91: No (10.7/1.6)\n",
       "    :           Sex = A93:\n",
       "    :           :...Credit.Amount <= 902: Yes (7.5/1.4)\n",
       "    :           :   Credit.Amount > 902: No (59.1/13.3)\n",
       "    :           Sex = A94:\n",
       "    :           :...Job in {A171,A172,A174}: No (7.3)\n",
       "    :           :   Job = A173: Yes (16.5/6.7)\n",
       "    :           Sex = A92:\n",
       "    :           :...Residence.Since <= 1: No (7.4/0.9)\n",
       "    :               Residence.Since > 1:\n",
       "    :               :...Age <= 37: Yes (29.9/8.7)\n",
       "    :                   Age > 37: No (5.4)\n",
       "    employment = A75:\n",
       "    :...Sex = A94: No (4.8)\n",
       "        Sex in {A91,A92,A93}:\n",
       "        :...Duration > 40: Yes (6)\n",
       "            Duration <= 40:\n",
       "            :...Residence.Since <= 3:\n",
       "                :...Savings in {A61,A63,A64,A65}: Yes (27.3/3.9)\n",
       "                :   Savings = A62: No (3.9/0.5)\n",
       "                Residence.Since > 3:\n",
       "                :...Age <= 30: No (13.7/0.6)\n",
       "                    Age > 30:\n",
       "                    :...existing.credits <= 1: Yes (36.3/9.5)\n",
       "                        existing.credits > 1:\n",
       "                        :...Credit.History in {A30,A33}: Yes (3.9)\n",
       "                            Credit.History in {A31,A32,A34}: No (20.9/4.5)\n",
       "\n",
       "-----  Trial 9:  -----\n",
       "\n",
       "Decision tree:\n",
       "\n",
       "Checking.Account in {A13,A14}:\n",
       ":...Checking.Account = A13:\n",
       ":   :...maintainence <= 1: No (60.2/17.5)\n",
       ":   :   maintainence > 1: Yes (9.4/2.7)\n",
       ":   Checking.Account = A14:\n",
       ":   :...Credit.Amount <= 4455: No (163.6/30.7)\n",
       ":       Credit.Amount > 4455:\n",
       ":       :...employment in {A71,A72,A73}: Yes (44.6/13.8)\n",
       ":           employment in {A74,A75}: No (20.2)\n",
       "Checking.Account in {A11,A12}:\n",
       ":...foreign.Walker = A202: No (14.6/3.4)\n",
       "    foreign.Walker = A201:\n",
       "    :...Credit.History in {A30,A31}: Yes (71.9/23.9)\n",
       "        Credit.History in {A32,A33,A34}:\n",
       "        :...Credit.Amount > 7966:\n",
       "            :...Credit.History in {A32,A34}: Yes (31.9/5.2)\n",
       "            :   Credit.History = A33: No (4.4/1.4)\n",
       "            Credit.Amount <= 7966:\n",
       "            :...Other.Installments.Plans = A142: Yes (20.7/6.4)\n",
       "                Other.Installments.Plans in {A141,A143}:\n",
       "                :...Duration > 36:\n",
       "                    :...maintainence > 1: No (6.3/1.6)\n",
       "                    :   maintainence <= 1:\n",
       "                    :   :...employment = A71: No (3.4)\n",
       "                    :       employment in {A72,A73,A74,A75}: Yes (24/2.3)\n",
       "                    Duration <= 36:\n",
       "                    :...Other.Debtors = A102: Yes (17.9/8.4)\n",
       "                        Other.Debtors = A103: No (22.1/4.4)\n",
       "                        Other.Debtors = A101:\n",
       "                        :...employment = A71:\n",
       "                            :...Residence.Since <= 2: Yes (14.9/2.1)\n",
       "                            :   Residence.Since > 2: No (19.1/4.6)\n",
       "                            employment = A74:\n",
       "                            :...Sex in {A91,A94}: Yes (13.8/5)\n",
       "                            :   Sex in {A92,A93}: No (41.6/4.7)\n",
       "                            employment = A73:\n",
       "                            :...Housing in {A152,A153}: No (95.8/31.1)\n",
       "                            :   Housing = A151:\n",
       "                            :   :...Puropose in {A40,A41}: No (14.8/3.2)\n",
       "                            :       Puropose in {A410,A42,A43,A44,A45,A46,A48,\n",
       "                            :                    A49}: Yes (13.6/1.2)\n",
       "                            employment = A75:\n",
       "                            :...Duration <= 8: No (7.3)\n",
       "                            :   Duration > 8:\n",
       "                            :   :...Residence.Since <= 3:\n",
       "                            :       :...Credit.Amount <= 5129: Yes (21.1/4.9)\n",
       "                            :       :   Credit.Amount > 5129: No (3.3)\n",
       "                            :       Residence.Since > 3:\n",
       "                            :       :...Credit.Amount <= 6948: No (46.9/14.4)\n",
       "                            :           Credit.Amount > 6948: Yes (3.9/0.9)\n",
       "                            employment = A72:\n",
       "                            :...Job in {A171,A174}: No (7.9/2.2)\n",
       "                                Job = A172: Yes (21.3/7.4)\n",
       "                                Job = A173:\n",
       "                                :...Credit.Amount > 4870: No (6.5)\n",
       "                                    Credit.Amount <= 4870:\n",
       "                                    :...existing.credits > 1: Yes (4.6/0.5)\n",
       "                                        existing.credits <= 1:\n",
       "                                        :...Sex in {A91,A93}: No (10.5)\n",
       "                                            Sex in {A92,A94}: [S1]\n",
       "\n",
       "SubTree [S1]\n",
       "\n",
       "Credit.History = A33: Yes (0)\n",
       "Credit.History = A34: No (1.8)\n",
       "Credit.History = A32:\n",
       ":...Duration <= 24: Yes (25.9/8.1)\n",
       "    Duration > 24: No (3.1)\n",
       "\n",
       "\n",
       "Evaluation on training data (900 cases):\n",
       "\n",
       "Trial\t    Decision Tree   \n",
       "-----\t  ----------------  \n",
       "\t  Size      Errors  \n",
       "\n",
       "   0\t    54  135(15.0%)\n",
       "   1\t    37  184(20.4%)\n",
       "   2\t    58  172(19.1%)\n",
       "   3\t    40  173(19.2%)\n",
       "   4\t    54  188(20.9%)\n",
       "   5\t    63  162(18.0%)\n",
       "   6\t    61  158(17.6%)\n",
       "   7\t    46  209(23.2%)\n",
       "   8\t    49  186(20.7%)\n",
       "   9\t    35  178(19.8%)\n",
       "boost\t         29( 3.2%)   <<\n",
       "\n",
       "\n",
       "\t   (a)   (b)    <-classified as\n",
       "\t  ----  ----\n",
       "\t   630     3    (a): class No\n",
       "\t    26   241    (b): class Yes\n",
       "\n",
       "\n",
       "\tAttribute usage:\n",
       "\n",
       "\t100.00%\tChecking.Account\n",
       "\t100.00%\tDuration\n",
       "\t100.00%\tforeign.Walker\n",
       "\t 99.00%\temployment\n",
       "\t 98.67%\tPuropose\n",
       "\t 98.00%\tOther.Debtors\n",
       "\t 96.67%\tCredit.Amount\n",
       "\t 96.44%\tSavings\n",
       "\t 95.22%\tOther.Installments.Plans\n",
       "\t 93.67%\tCredit.History\n",
       "\t 90.00%\tJob\n",
       "\t 87.11%\tInstallment.Rate\n",
       "\t 74.44%\tAge\n",
       "\t 74.33%\tReal.Estate\n",
       "\t 59.33%\texisting.credits\n",
       "\t 58.56%\tResidence.Since\n",
       "\t 55.33%\tSex\n",
       "\t 54.89%\tHousing\n",
       "\t 46.00%\tmaintainence\n",
       "\t 37.44%\tTelephone\n",
       "\n",
       "\n",
       "Time: 0.1 secs\n"
      ]
     },
     "metadata": {},
     "output_type": "display_data"
    }
   ],
   "source": [
    "summary(model)"
   ]
  },
  {
   "cell_type": "code",
   "execution_count": 104,
   "metadata": {
    "collapsed": false
   },
   "outputs": [
    {
     "name": "stdout",
     "output_type": "stream",
     "text": [
      "\n",
      " \n",
      "   Cell Contents\n",
      "|-------------------------|\n",
      "|                       N |\n",
      "| Chi-square contribution |\n",
      "|           N / Row Total |\n",
      "|           N / Col Total |\n",
      "|         N / Table Total |\n",
      "|-------------------------|\n",
      "\n",
      " \n",
      "Total Observations in Table:  100 \n",
      "\n",
      " \n",
      "             | actual \n",
      "     predict |        No |       Yes | Row Total | \n",
      "-------------|-----------|-----------|-----------|\n",
      "          No |        73 |         5 |        78 | \n",
      "             |     4.530 |    12.247 |           | \n",
      "             |     0.936 |     0.064 |     0.780 | \n",
      "             |     1.000 |     0.185 |           | \n",
      "             |     0.730 |     0.050 |           | \n",
      "-------------|-----------|-----------|-----------|\n",
      "         Yes |         0 |        22 |        22 | \n",
      "             |    16.060 |    43.421 |           | \n",
      "             |     0.000 |     1.000 |     0.220 | \n",
      "             |     0.000 |     0.815 |           | \n",
      "             |     0.000 |     0.220 |           | \n",
      "-------------|-----------|-----------|-----------|\n",
      "Column Total |        73 |        27 |       100 | \n",
      "             |     0.730 |     0.270 |           | \n",
      "-------------|-----------|-----------|-----------|\n",
      "\n",
      " \n"
     ]
    }
   ],
   "source": [
    "CrossTable(credit_predict, credit_test$score, dnn=c(\"predict\", \"actual\"))"
   ]
  },
  {
   "cell_type": "code",
   "execution_count": null,
   "metadata": {
    "collapsed": true
   },
   "outputs": [],
   "source": []
  }
 ],
 "metadata": {
  "anaconda-cloud": {},
  "kernelspec": {
   "display_name": "R",
   "language": "R",
   "name": "ir"
  },
  "language_info": {
   "codemirror_mode": "r",
   "file_extension": ".r",
   "mimetype": "text/x-r-source",
   "name": "R",
   "pygments_lexer": "r",
   "version": "3.3.2"
  }
 },
 "nbformat": 4,
 "nbformat_minor": 1
}
